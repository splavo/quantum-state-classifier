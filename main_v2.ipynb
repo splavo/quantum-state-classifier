{
 "cells": [
  {
   "cell_type": "markdown",
   "metadata": {},
   "source": [
    "## Quantum State Classifier"
   ]
  },
  {
   "cell_type": "code",
   "execution_count": 27,
   "metadata": {},
   "outputs": [],
   "source": [
    "import qutip\n",
    "import numpy as np\n",
    "np.random.seed(42)\n",
    "from qutip import *"
   ]
  },
  {
   "cell_type": "code",
   "execution_count": null,
   "metadata": {},
   "outputs": [],
   "source": []
  },
  {
   "cell_type": "markdown",
   "metadata": {},
   "source": [
    "a vector (1 0) can be written as thought of as a basis vector in space of possibilites, being one of the possibilities. \n",
    "basis vector can also be written as ket(psi) = (1 0) > can be 2 different things, [in this case a 0 or 1] > and here it is a 0\n",
    "also written as \n",
    "\n",
    "A basis vector  $ \\begin{pmatrix} 1 \\\\ 0 \\end{pmatrix} $  can be thought of as a one of the possible states you can observe in a larger space of possibilites states (Hilbert space H). In this case, it's in the \"lowest energy level\", so a 1 is in the first position.\n",
    "\n",
    "A state vector can be a linear combination of basis vector that make up a hilbert space and describe the superposition a state is in:\n",
    "$$\n",
    "  | \\psi \\rangle = \\alpha| 0 \\rangle + \\beta| 1 \\rangle = \\alpha\\begin{pmatrix} 1 \\\\ 0 \\end{pmatrix} + \\beta\\begin{pmatrix} 0 \\\\ 1 \\end{pmatrix} = \\begin{pmatrix} \\alpha \\\\ 0 \\end{pmatrix} + \\begin{pmatrix} 0 \\\\ \\beta \\end{pmatrix}\n",
    "  $$\n",
    "  therefore\n",
    "  $$\n",
    "    \\quad | \\psi \\rangle = \\begin{pmatrix} \\alpha \\\\ \\beta \\end{pmatrix}\n",
    "  $$\n",
    "with $\\alpha$ and $\\beta$ being complex numbers."
   ]
  },
  {
   "cell_type": "code",
   "execution_count": 46,
   "metadata": {},
   "outputs": [
    {
     "name": "stdout",
     "output_type": "stream",
     "text": [
      "Quantum object: dims=[[2], [1]], shape=(2, 1), type='ket', dtype=Dense\n",
      "Qobj data =\n",
      "[[1.]\n",
      " [0.]]\n",
      "Quantum object: dims=[[2], [1]], shape=(2, 1), type='ket', dtype=Dense\n",
      "Qobj data =\n",
      "[[-0.84391059-0.53648384j]\n",
      " [ 0.        +0.j        ]]\n"
     ]
    }
   ],
   "source": [
    "psi = basis(2,0)\n",
    "print(psi)\n",
    "\n",
    "random_psi = rand_ket(2,0)\n",
    "print(random_psi)"
   ]
  },
  {
   "cell_type": "markdown",
   "metadata": {},
   "source": [
    "can also do 2 qubits which have basis vector length four > because 2^n n= # qubits, \n",
    "and because youre taking the tensor product which means your jtaking every possible combination of states [show tensor product diagram/calculation]\n",
    "product = outer product > also the density matrix, which gives you info about the quantum system made up of the two subsystems (the two qubits)\n",
    "\n",
    "You can also have a system with two qubits. Here, each basis vector has a length of four: \n",
    "$$ \n",
    "    | \\psi \\rangle = \\begin {pmatrix} 1 \\\\ 0 \\\\ 0 \\\\ 0 \\end {pmatrix} $$ \n",
    "\n",
    "To get all possible combinations of a system with two qubits, you take the tensor product (indicated by  $\\otimes$ ), meaning multiply the basis of each system together. For example, if we have one qubit\n",
    "in the first state (lowest energy level) and one in the second state, it would look like\n",
    "\n",
    "$$\n",
    "    | \\psi \\rangle = \\begin {pmatrix} 1 \\\\ 0 \\end {pmatrix} \\quad \\quad | \\phi \\rangle = \\begin {pmatrix} 0 \\\\ 1 \\end {pmatrix} \\\\~\\\\\n",
    "    \n",
    "    | \\psi \\rangle \\otimes | \\phi \\rangle = \\begin {pmatrix} 1 \\\\ 0 \\end {pmatrix} \\otimes \\begin {pmatrix} 0 \\\\ 1 \\end {pmatrix} = \\begin {pmatrix} 0 \\\\ 1 \\\\ 0 \\\\ 0 \\end {pmatrix}\n",
    "    \n",
    "    \n",
    "$$"
   ]
  },
  {
   "cell_type": "markdown",
   "metadata": {},
   "source": [
    "A density matrix holds information about the system, including whether it is entangled and its level of entanglement. The density matrix $ \\rho $ of a system is written as the outer product of the state vector $ | \\psi \\rangle $ and its complex conjugate $ \\langle \\psi | $ where\n",
    "$$ \n",
    "    \\langle \\psi | = \\begin {pmatrix} \\alpha^* \\beta^* \\end {pmatrix} \n",
    "$$\n",
    "\n",
    "Therefore: \n",
    "$$\n",
    "    \\rho = | \\psi \\rangle \\langle \\psi | = \\begin {pmatrix} \\alpha \\\\ \\beta \\end {pmatrix} \\begin {pmatrix} \\alpha^* \\beta^* \\end {pmatrix} = \\begin {pmatrix} \\alpha^2 \\quad \\alpha\\beta^* \\\\ \\beta\\alpha^* \\quad \\beta^2 \\end {pmatrix} = \\begin {pmatrix} \\alpha^2 \\\\ \\alpha\\beta^* \\\\ \\beta\\alpha^* \\\\ \\beta^2 \\end {pmatrix}\n",
    "$$\n",
    "The tensor product $\\rho$ can be reshaped from a matrix to a vector representation. In QuTiP, if given two state vectors in two Hilbert spaces, the `tensor()` function will return a state vector in a larger Hilbert space, maintaining the same input shape, hence the veector form vs a matrix output."
   ]
  },
  {
   "cell_type": "code",
   "execution_count": 40,
   "metadata": {},
   "outputs": [
    {
     "name": "stdout",
     "output_type": "stream",
     "text": [
      "Quantum object: dims=[[2, 2], [1, 1]], shape=(4, 1), type='ket', dtype=Dense\n",
      "Qobj data =\n",
      "[[0.]\n",
      " [1.]\n",
      " [0.]\n",
      " [0.]]\n"
     ]
    }
   ],
   "source": [
    "rho = tensor(basis(2,0), basis(2,1))\n",
    "print(rho)"
   ]
  },
  {
   "cell_type": "markdown",
   "metadata": {},
   "source": [
    "We can generate a random density matrix with QuTiP's `rand_dm()` function. Here, it will have dimension 4, meaning a two qubit system with a 4x4 density matrix:"
   ]
  },
  {
   "cell_type": "code",
   "execution_count": 49,
   "metadata": {},
   "outputs": [
    {
     "name": "stdout",
     "output_type": "stream",
     "text": [
      "Quantum object: dims=[[4], [4]], shape=(4, 4), type='oper', dtype=Dense, isherm=True\n",
      "Qobj data =\n",
      "[[ 0.2224075 +0.j          0.04311276-0.07143549j -0.02351013+0.10914645j\n",
      "  -0.07861161+0.07459657j]\n",
      " [ 0.04311276+0.07143549j  0.2020923 +0.j          0.13823233+0.04306164j\n",
      "  -0.0605958 -0.07589341j]\n",
      " [-0.02351013-0.10914645j  0.13823233-0.04306164j  0.3473668 +0.j\n",
      "   0.08471133+0.01356771j]\n",
      " [-0.07861161-0.07459657j -0.0605958 +0.07589341j  0.08471133-0.01356771j\n",
      "   0.2281334 +0.j        ]]\n"
     ]
    }
   ],
   "source": [
    "random_rho = rand_dm(4)\n",
    "print(random_rho)"
   ]
  },
  {
   "cell_type": "markdown",
   "metadata": {},
   "source": [
    "The density matrix holds information about the system that we would want to know. We get this information by doing measurements. One of these is purity. If the reduced density matrix has purity of **1**, its not entangled (separable), but if its **<1**, its engtangled. This is because if the subsystems of a state are mixed (meaning we don't have all of the information about them), the system has to be entangled because its in a *statistical mixture* of states.\n",
    "\n",
    "von Neumann entropy is a measurement of entanglement...\n",
    "\n",
    "QuTiP has a built in `purity()` and `entropy_vn()` function for this.\n"
   ]
  },
  {
   "cell_type": "code",
   "execution_count": 55,
   "metadata": {},
   "outputs": [
    {
     "name": "stdout",
     "output_type": "stream",
     "text": [
      "0.40086709781528673\n",
      "1.0183729249782645\n"
     ]
    }
   ],
   "source": [
    "entanglement_measure = random_rho.purity()\n",
    "print(entanglement_measure)\n",
    "\n",
    "vn = entropy_vn(random_rho)\n",
    "print(vn)"
   ]
  },
  {
   "cell_type": "markdown",
   "metadata": {},
   "source": [
    "\n",
    "#### ***Add more measurements later***\n"
   ]
  },
  {
   "cell_type": "markdown",
   "metadata": {},
   "source": [
    "will create random density matrix, take measurement, record [whether we think its entangled or not / if its entangled]."
   ]
  },
  {
   "cell_type": "code",
   "execution_count": 64,
   "metadata": {},
   "outputs": [],
   "source": [
    "features_list = []\n",
    "labels = []\n",
    "for _ in range(1000):\n",
    "    state = rand_dm(4)\n",
    "    state.dims = [[2,2], [2,2]]\n",
    "    purity = state.purity()\n",
    "    vn_entropy = entropy_vn(state)\n",
    "    features = np.array([purity,vn_entropy])\n",
    "    features_list.append(features)\n",
    "    labels.append(1 if concurrence(state) > 0 else 0)\n",
    "features = np.array(features_list)\n",
    "labels = np.array(labels)"
   ]
  },
  {
   "cell_type": "code",
   "execution_count": 65,
   "metadata": {},
   "outputs": [
    {
     "name": "stdout",
     "output_type": "stream",
     "text": [
      "(1000, 2)\n"
     ]
    }
   ],
   "source": [
    "print(features.shape)"
   ]
  },
  {
   "cell_type": "code",
   "execution_count": 68,
   "metadata": {},
   "outputs": [
    {
     "name": "stdout",
     "output_type": "stream",
     "text": [
      "0.775\n"
     ]
    }
   ],
   "source": [
    "from sklearn.model_selection import train_test_split\n",
    "from sklearn.linear_model import LogisticRegression\n",
    "\n",
    "X_train, X_test, y_train, y_test = train_test_split(features, labels, test_size=0.2, random_state=42)\n",
    "model = LogisticRegression().fit(X_train, y_train)\n",
    "accuracy = model.score(X_test, y_test)\n",
    "print(accuracy)"
   ]
  },
  {
   "cell_type": "code",
   "execution_count": 69,
   "metadata": {},
   "outputs": [
    {
     "data": {
      "image/png": "[encoded data removed]",
      "text/plain": [
       "<Figure size 640x480 with 2 Axes>"
      ]
     },
     "metadata": {},
     "output_type": "display_data"
    }
   ],
   "source": [
    "from sklearn.metrics import confusion_matrix, ConfusionMatrixDisplay\n",
    "import matplotlib.pyplot as plt\n",
    "y_pred = model.predict(X_test)\n",
    "cm = confusion_matrix(y_test, y_pred)\n",
    "disp = ConfusionMatrixDisplay(confusion_matrix=cm, display_labels=['Not Entangled', 'Entangled'])\n",
    "disp.plot(cmap='Blues')\n",
    "plt.title('Confusion Matrix')\n",
    "plt.show()"
   ]
  },
  {
   "cell_type": "code",
   "execution_count": null,
   "metadata": {},
   "outputs": [],
   "source": []
  }
 ],
 "metadata": {
  "kernelspec": {
   "display_name": ".venv",
   "language": "python",
   "name": "python3"
  },
  "language_info": {
   "codemirror_mode": {
    "name": "ipython",
    "version": 3
   },
   "file_extension": ".py",
   "mimetype": "text/x-python",
   "name": "python",
   "nbconvert_exporter": "python",
   "pygments_lexer": "ipython3",
   "version": "3.10.5"
  }
 },
 "nbformat": 4,
 "nbformat_minor": 2
}
