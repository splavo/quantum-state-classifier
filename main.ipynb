{
 "cells": [
  {
   "cell_type": "markdown",
   "metadata": {},
   "source": [
    "## Quantum State Classifier"
   ]
  },
  {
   "cell_type": "code",
   "execution_count": 14,
   "metadata": {},
   "outputs": [],
   "source": [
    "import qutip\n",
    "import numpy as np\n",
    "from qutip import *"
   ]
  },
  {
   "cell_type": "code",
   "execution_count": 12,
   "metadata": {},
   "outputs": [],
   "source": [
    "from qutip import rand_dm, entropy_vn, ptrace, sigmax, sigmay, sigmaz, tensor, expect\n",
    "import numpy as np\n",
    "\n",
    "state = rand_dm(4)\n",
    "state.dims = [[2, 2], [2, 2]]\n",
    "\n",
    "matrix_features = np.concatenate([state.full().real.flatten(), state.full().imag.flatten()])\n",
    "\n",
    "purity = state.purity() \n",
    "entropy = entropy_vn(state) \n",
    "pauli_ops = [tensor(sigmax(), sigmax()), tensor(sigmay(), sigmay()), tensor(sigmaz(), sigmaz())]\n",
    "pauli_expect = [expect(op, state) for op in pauli_ops] \n",
    "rho_A = ptrace(state, 0)\n",
    "entropy_A = entropy_vn(rho_A)\n",
    "rho_B = ptrace(state, 1)\n",
    "entropy_B = entropy_vn(rho_B)  \n",
    "eigenvalues = np.linalg.eigvals(state.full()).real  \n",
    "\n",
    "features = np.concatenate([matrix_features, [purity, entropy, entropy_A, entropy_B], pauli_expect, eigenvalues])\n",
    "\n",
    "features_list = []\n",
    "labels = []\n",
    "for _ in range(1000):\n",
    "    state = rand_dm(4)\n",
    "    state.dims = [[2,2], [2,2]]\n",
    "    matrix_features = np.concatenate([state.full().real.flatten(), state.full().imag.flatten()])\n",
    "    purity = state.purity()\n",
    "    entropy = entropy_vn(state)\n",
    "    pauli_expect = [expect(op, state) for op in pauli_ops]\n",
    "    rho_A = ptrace(state, 0)\n",
    "    entropy_A = entropy_vn(rho_A)\n",
    "    rho_B = ptrace(state, 1)\n",
    "    entropy_B = entropy_vn(rho_B)\n",
    "    eigenvalues = np.linalg.eigvals(state.full()).real\n",
    "    features = np.concatenate([matrix_features, [purity, entropy, entropy_A, entropy_B], pauli_expect, eigenvalues])\n",
    "    features_list.append(features)\n",
    "    labels.append(1 if concurrence(state) > 0 else 0)\n",
    "features = np.array(features_list)\n",
    "labels = np.array(labels)"
   ]
  },
  {
   "cell_type": "code",
   "execution_count": 13,
   "metadata": {},
   "outputs": [
    {
     "name": "stdout",
     "output_type": "stream",
     "text": [
      "0.765\n"
     ]
    }
   ],
   "source": [
    "from sklearn.model_selection import train_test_split\n",
    "from sklearn.linear_model import LogisticRegression\n",
    "X_train, X_test, y_train, y_test = train_test_split(features, labels, test_size=0.2)\n",
    "model = LogisticRegression().fit(X_train, y_train)\n",
    "accuracy = model.score(X_test, y_test)\n",
    "print(accuracy)"
   ]
  },
  {
   "cell_type": "code",
   "execution_count": null,
   "metadata": {},
   "outputs": [],
   "source": []
  }
 ],
 "metadata": {
  "kernelspec": {
   "display_name": ".venv",
   "language": "python",
   "name": "python3"
  },
  "language_info": {
   "codemirror_mode": {
    "name": "ipython",
    "version": 3
   },
   "file_extension": ".py",
   "mimetype": "text/x-python",
   "name": "python",
   "nbconvert_exporter": "python",
   "pygments_lexer": "ipython3",
   "version": "3.10.5"
  }
 },
 "nbformat": 4,
 "nbformat_minor": 2
}
